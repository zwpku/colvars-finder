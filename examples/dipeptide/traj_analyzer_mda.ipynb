{
 "cells": [
  {
   "cell_type": "code",
   "execution_count": null,
   "id": "387b60f8",
   "metadata": {
    "lines_to_next_cell": 2,
    "scrolled": true
   },
   "outputs": [],
   "source": [
    "import MDAnalysis as mda\n",
    "from MDAnalysis.analysis import dihedrals, rms\n",
    "import matplotlib.pyplot as plt\n",
    "import matplotlib\n",
    "import numpy as np\n",
    "import nglview as nv\n",
    "import pandas\n",
    "import math\n",
    "from openmm import *"
   ]
  },
  {
   "cell_type": "markdown",
   "id": "5ea42e94",
   "metadata": {},
   "source": [
    "### Set parameters "
   ]
  },
  {
   "cell_type": "code",
   "execution_count": null,
   "id": "f1d0c7ac",
   "metadata": {},
   "outputs": [],
   "source": [
    "is_deactivate_warning = True\n",
    "is_savefigs = True\n",
    "\n",
    "sysname = 'AlanineDipeptide'\n",
    "# name of PDB file\n",
    "pdb_filename = \"./vacuum.pdb\"\n",
    "# name of DCD file\n",
    "output_path = './traj_data' \n",
    "\n",
    "traj_dcd_filename = '%s/traj.dcd' % output_path\n",
    "traj_bias_filename = '%s/BIAS' % output_path\n",
    "\n",
    "if is_deactivate_warning :\n",
    "    import warnings\n",
    "    warnings.filterwarnings(\"ignore\")    \n",
    "    \n",
    "if is_makemovie :\n",
    "    import moviepy.editor as mpy\n",
    "    from time import sleep\n",
    "    # display the gif in this notebook\n",
    "    from IPython import display"
   ]
  },
  {
   "cell_type": "markdown",
   "id": "856202e3",
   "metadata": {},
   "source": [
    "### Load trajectory data "
   ]
  },
  {
   "cell_type": "code",
   "execution_count": null,
   "id": "fabd8b7d",
   "metadata": {
    "scrolled": false
   },
   "outputs": [],
   "source": [
    "# load the trajectory data from DCD file\n",
    "u = mda.Universe(pdb_filename, traj_dcd_filename)\n",
    "# load the reference configuration from the PDB file\n",
    "ref = mda.Universe(pdb_filename) \n",
    "\n",
    "# print some information\n",
    "print ('residues: ', u.residues)\n",
    "print ('trajectory: ', u.trajectory)\n",
    "print ('reference: ', ref.trajectory)\n",
    "\n",
    "# display the trajectory\n",
    "view = nv.show_mdanalysis(u)\n",
    "print ('number of frames: %d ' % view.max_frame)\n",
    "view"
   ]
  },
  {
   "cell_type": "markdown",
   "id": "f463f086",
   "metadata": {},
   "source": [
    "### Generate plots of two dihedral angles"
   ]
  },
  {
   "cell_type": "code",
   "execution_count": null,
   "id": "eacfdf26",
   "metadata": {
    "scrolled": false
   },
   "outputs": [],
   "source": [
    "# generate the Ramachandran plot of two dihedral angles\n",
    "#ax = plt.gca()\n",
    "fig, ax = plt.subplots(figsize=(7,7))\n",
    "\n",
    "r = dihedrals.Ramachandran(u.select_atoms('resid 2')).run()\n",
    "r.plot(ax, color='black', marker='.') #, ref=True)\n",
    "\n",
    "traj_angles = r.angles[:,0,:]\n",
    "\n",
    "if is_savefigs :\n",
    "    fig_filename_Ramachandran = './%s/%s_Ramachandran.eps' % (output_path, sysname)\n",
    "    plt.savefig(fig_filename_Ramachandran)\n",
    "    print ('Ramachandran plot saved to file: %s' % fig_filename_Ramachandran)\n",
    "    \n",
    "fig, ax = plt.subplots(1,2, figsize=(14,6))\n",
    "ax[0].plot(traj_angles[:,0], 'k-')\n",
    "ax[0].set_ylim([-180,180])\n",
    "ax[0].set_xlabel(\"time (fs)\")\n",
    "ax[0].set_ylabel(r\"$\\phi$\")\n",
    "\n",
    "ax[1].plot(traj_angles[:,1], 'k-')\n",
    "ax[1].set_xlabel(\"time (fs)\")\n",
    "ax[1].set_ylim([-180,180])\n",
    "ax[1].set_ylabel(r\"$\\psi$\")\n",
    "\n",
    "plt.show()"
   ]
  },
  {
   "cell_type": "markdown",
   "id": "cc7929d1",
   "metadata": {},
   "source": [
    "### Plot weights"
   ]
  },
  {
   "cell_type": "code",
   "execution_count": null,
   "id": "ed1f8c7d",
   "metadata": {},
   "outputs": [],
   "source": [
    "weight_filename = \"%s/weights.csv\" % output_path\n",
    "weights = pandas.read_csv(weight_filename)\n",
    "print (weights.columns)\n",
    "print ('\\nDescribe:\\n', weights['weight'].describe(percentiles=[0.2, 0.4, 0.6, 0.8]))\n",
    "\n",
    "fig, ax = plt.subplots(1,2, figsize=(14,7))\n",
    "\n",
    "nbin=10\n",
    "[vmin, vmax] = [1e-8, 1e0]\n",
    "[min_weight, max_weight] = [1e-5, 1e0]\n",
    "\n",
    "# select states according to weights\n",
    "select = (weights['weight']>min_weight) & (weights['weight']<max_weight)\n",
    "weights = weights[select]\n",
    "print ('\\nDescribe:\\n', weights['weight'].describe(percentiles=[0.2, 0.4, 0.6, 0.8]))\n",
    "\n",
    "# histogram of weights\n",
    "weights['weight'].plot(kind='hist', logx=True, logy=True, ax=ax[0], bins=nbin)\n",
    "\n",
    "# scatter plot of weights \n",
    "sc = ax[1].scatter(traj_angles[select,0], traj_angles[select,1], s=3.0, c=weights['weight'], vmin=vmin, vmax=vmax, cmap='jet', norm=matplotlib.colors.LogNorm())\n",
    "\n",
    "ax[1].set_title(f'weights', fontsize=27)\n",
    "ax[1].set_xlim([-180,180])\n",
    "ax[1].set_ylim([-180,180])\n",
    "\n",
    "#ax.set_xticks([-3, -2, -1, 0, 1, 2, 3])\n",
    "#ax.set_yticks([-3, -2, -1, 0, 1, 2, 3])\n",
    "cax = fig.add_axes([0.92, 0.10, .02, 0.80])\n",
    "cbar = fig.colorbar(sc, cax=cax)\n",
    "cbar.ax.tick_params(labelsize=20)\n",
    "\n",
    "plt.show()"
   ]
  },
  {
   "cell_type": "markdown",
   "id": "e9a831f3",
   "metadata": {},
   "source": [
    "### RMSD plot"
   ]
  },
  {
   "cell_type": "code",
   "execution_count": null,
   "id": "9be78df7",
   "metadata": {
    "scrolled": false
   },
   "outputs": [],
   "source": [
    "# select atoms for RMSD computation below \n",
    "selector = 'name N or name CA or name C'\n",
    "# compute RMSD of the trajectory wrt the reference configuration\n",
    "R = rms.RMSD(u, ref, select=selector)          \n",
    "R.run()\n",
    "# get the RMSD result\n",
    "rmsd = R.results.rmsd.T   # transpose makes it easier for plotting\n",
    "\n",
    "fig, ax = plt.subplots(figsize=(12,6))\n",
    "\n",
    "plt.plot(rmsd[0,:], rmsd[2,:], 'k-')\n",
    "plt.xlabel(\"time (fs)\")\n",
    "plt.ylabel(r\"RMSD ($\\AA$)\")\n",
    "\n",
    "if is_savefigs :\n",
    "    fig_filename_rmsd = './%s/%s_rmsd.eps' % (output_path, sysname) \n",
    "    plt.savefig(fig_filename_rmsd)    \n",
    "    print ('RMSD plot saved to file: %s' % fig_filename_rmsd)"
   ]
  },
  {
   "cell_type": "markdown",
   "id": "056206a7",
   "metadata": {},
   "source": [
    "### Plot state data from CSV file"
   ]
  },
  {
   "cell_type": "code",
   "execution_count": null,
   "id": "3da54a53",
   "metadata": {
    "scrolled": true
   },
   "outputs": [],
   "source": [
    "csv_filename = \"%s/state_data.csv\" % output_path\n",
    "csv_col_idx = 1\n",
    "\n",
    "df1 = pandas.read_csv(csv_filename)\n",
    "print (df1.describe())\n",
    "\n",
    "fig, ax = plt.subplots(figsize=(8,6))\n",
    "df1.plot(kind='line', ax=ax, x='#\"Time (ps)\"', y=df1.columns[csv_col_idx])\n",
    "\n",
    "if is_savefigs :\n",
    "    # to get rid of warning when saving figure to eps format\n",
    "    ax.set_rasterized(True)\n",
    "    fig_filename= './%s/%s_csv%d.eps' % (output_path, sysname, csv_col_idx) \n",
    "    plt.savefig(fig_filename)    \n",
    "    print ('Potential Energy saved to file: %s' % fig_filename)\n",
    "\n",
    "fig, ax = plt.subplots(figsize=(8,6))\n",
    "sc = ax.scatter(traj_angles[:,0], traj_angles[:,1], s=3.0, c=df1[df1.columns[csv_col_idx]], cmap='jet')\n",
    "\n",
    "ax.set_title(f'{df1.columns[csv_col_idx]}', fontsize=27)\n",
    "#ax.set_xticks([-3, -2, -1, 0, 1, 2, 3])\n",
    "#ax.set_yticks([-3, -2, -1, 0, 1, 2, 3])\n",
    "\n",
    "cax = fig.add_axes([0.92, 0.10, .02, 0.80])\n",
    "cbar = fig.colorbar(sc, cax=cax)\n",
    "cbar.ax.tick_params(labelsize=20)\n",
    "plt.show()\n"
   ]
  },
  {
   "cell_type": "code",
   "execution_count": null,
   "id": "daf149b7",
   "metadata": {},
   "outputs": [],
   "source": []
  }
 ],
 "metadata": {
  "kernelspec": {
   "display_name": "Python 3 (ipykernel)",
   "language": "python",
   "name": "python3"
  },
  "language_info": {
   "codemirror_mode": {
    "name": "ipython",
    "version": 3
   },
   "file_extension": ".py",
   "mimetype": "text/x-python",
   "name": "python",
   "nbconvert_exporter": "python",
   "pygments_lexer": "ipython3",
   "version": "3.9.10"
  }
 },
 "nbformat": 4,
 "nbformat_minor": 5
}
