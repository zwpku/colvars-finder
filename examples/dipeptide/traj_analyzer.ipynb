{
 "cells": [
  {
   "cell_type": "markdown",
   "id": "a9a5e640",
   "metadata": {},
   "source": [
    "## Always run the first three cells below  "
   ]
  },
  {
   "cell_type": "code",
   "execution_count": null,
   "id": "387b60f8",
   "metadata": {
    "lines_to_next_cell": 2,
    "scrolled": true
   },
   "outputs": [],
   "source": [
    "import MDAnalysis as mda\n",
    "from MDAnalysis.analysis import dihedrals, rms\n",
    "from MDAnalysis.lib.distances import calc_dihedrals \n",
    "\n",
    "import matplotlib.pyplot as plt\n",
    "import matplotlib.colors as colors\n",
    "import matplotlib as mpl\n",
    "import numpy as np\n",
    "import nglview as nv\n",
    "import pandas as pd\n",
    "import math\n",
    "import sys"
   ]
  },
  {
   "cell_type": "markdown",
   "id": "5ea42e94",
   "metadata": {},
   "source": [
    "### Set parameters "
   ]
  },
  {
   "cell_type": "code",
   "execution_count": null,
   "id": "f1d0c7ac",
   "metadata": {},
   "outputs": [],
   "source": [
    "is_deactivate_warning = True\n",
    "is_savefigs = True\n",
    "\n",
    "sysname = 'AlanineDipeptide'\n",
    "# name of PDB file\n",
    "pdb_filename = \"./vacuum.pdb\"\n",
    "# name of DCD file\n",
    "output_path = './traj_data' \n",
    "\n",
    "traj_dcd_filename = '%s/traj.dcd' % output_path\n",
    "\n",
    "if is_deactivate_warning :\n",
    "    import warnings\n",
    "    warnings.filterwarnings(\"ignore\")    "
   ]
  },
  {
   "cell_type": "markdown",
   "id": "856202e3",
   "metadata": {},
   "source": [
    "### Load trajectory data "
   ]
  },
  {
   "cell_type": "code",
   "execution_count": null,
   "id": "fabd8b7d",
   "metadata": {
    "scrolled": false
   },
   "outputs": [],
   "source": [
    "# load the trajectory data from DCD file\n",
    "u = mda.Universe(pdb_filename, traj_dcd_filename)\n",
    "# load the reference configuration from the PDB file\n",
    "ref = mda.Universe(pdb_filename) \n",
    "\n",
    "# print some information\n",
    "print ('residues: ', u.residues)\n",
    "print ('trajectory: ', u.trajectory)\n",
    "print ('reference: ', ref.trajectory)\n",
    "\n",
    "# display the trajectory\n",
    "view = nv.show_mdanalysis(u)\n",
    "print ('number of frames: %d ' % view.max_frame)\n",
    "view"
   ]
  },
  {
   "cell_type": "markdown",
   "id": "d5a4dd59",
   "metadata": {},
   "source": [
    "## Select from Jobs 1-5, or  run them sequentially. "
   ]
  },
  {
   "cell_type": "markdown",
   "id": "f463f086",
   "metadata": {},
   "source": [
    "### Job 1: Generate plots of two dihedral angles"
   ]
  },
  {
   "cell_type": "code",
   "execution_count": null,
   "id": "eacfdf26",
   "metadata": {
    "scrolled": false
   },
   "outputs": [],
   "source": [
    "# generate the Ramachandran plot of two dihedral angles\n",
    "#ax = plt.gca()\n",
    "fig, ax = plt.subplots(figsize=(7,7))\n",
    "\n",
    "#phi = u.select_atoms(\"bynum 13 15 17 1\")\n",
    "#psi = u.select_atoms(\"bynum 13 15 17 1\")\n",
    "#r = dihedrals.Dihedral([phi,psi]).run()\n",
    "\n",
    "traj = u.trajectory.timeseries(order='fac')\n",
    "\n",
    "phi_angles = calc_dihedrals(traj[:,12,:], traj[:,14,:], traj[:,16,:], traj[:,1,:]) / math.pi * 180\n",
    "psi_angles = calc_dihedrals(traj[:,2,:], traj[:,0,:], traj[:,16,:], traj[:,14,:]) / math.pi * 180\n",
    "\n",
    "h = ax.hist2d(phi_angles, psi_angles, bins=70, norm=mpl.colors.LogNorm(), range=[[-180,180], [-180, 180]]) #norm=mpl.colors.LogNorm(),\n",
    "\n",
    "#r = dihedrals.Ramachandran(u.select_atoms('resid 2')).run()\n",
    "#r.plot(ax, color='black', marker='.') #, ref=True)\n",
    "\n",
    "traj_angles = np.stack((phi_angles, psi_angles), axis=1)\n",
    "\n",
    "if is_savefigs :\n",
    "    fig_filename_Ramachandran = './%s/%s_Ramachandran.eps' % (output_path, sysname)\n",
    "    plt.savefig(fig_filename_Ramachandran)\n",
    "    print ('Ramachandran plot saved to file: %s' % fig_filename_Ramachandran)\n",
    "    \n",
    "fig, ax = plt.subplots(1,2, figsize=(14,6))\n",
    "ax[0].plot(traj_angles[:,0], 'k-')\n",
    "ax[0].set_ylim([-180,180])\n",
    "ax[0].set_xlabel(\"time (fs)\")\n",
    "ax[0].set_ylabel(r\"$\\phi$\")\n",
    "\n",
    "ax[1].plot(traj_angles[:,1], 'k-')\n",
    "ax[1].set_xlabel(\"time (fs)\")\n",
    "ax[1].set_ylim([-180,180])\n",
    "ax[1].set_ylabel(r\"$\\psi$\")\n",
    "\n",
    "plt.show()"
   ]
  },
  {
   "cell_type": "markdown",
   "id": "cc7929d1",
   "metadata": {},
   "source": [
    "### Job 2: Plot weights"
   ]
  },
  {
   "cell_type": "code",
   "execution_count": null,
   "id": "ed1f8c7d",
   "metadata": {},
   "outputs": [],
   "source": [
    "weight_filename = \"%s/weights.csv\" % output_path\n",
    "weights = pd.read_csv(weight_filename, header=None)\n",
    "print (weights.columns)\n",
    "print ('\\nDescribe:\\n', weights.describe(percentiles=[0.2, 0.4, 0.6, 0.8]))\n",
    "\n",
    "fig, ax = plt.subplots(1,2, figsize=(14,7))\n",
    "\n",
    "nbin=10\n",
    "[vmin, vmax] = [1e-8, 2e1]\n",
    "[min_weight, max_weight] = [1e-8, 2e1]\n",
    "\n",
    "# select states according to weights\n",
    "select = (weights[0]>min_weight) & (weights[0]<max_weight)\n",
    "\n",
    "weights = weights[select]\n",
    "print ('\\nDescribe:\\n', weights.describe(percentiles=[0.2, 0.4, 0.6, 0.8]))\n",
    "\n",
    "# histogram of weights\n",
    "weights.plot(kind='hist', logx=True, logy=True, ax=ax[0], bins=nbin)\n",
    "\n",
    "try:\n",
    "    traj_angles \n",
    "except NameError:   \n",
    "    r = dihedrals.Ramachandran(u.select_atoms('resid 2')).run()\n",
    "    traj_angles = r.angles[:,0,:]\n",
    "\n",
    "# scatter plot of weights \n",
    "sc = ax[1].scatter(traj_angles[select,0], traj_angles[select,1], s=3.0, \\\n",
    "                   c=weights, vmin=vmin, vmax=vmax, cmap='jet', norm=colors.LogNorm())\n",
    "\n",
    "ax[1].set_title(f'weights', fontsize=27)\n",
    "ax[1].set_xlim([-180,180])\n",
    "ax[1].set_ylim([-180,180])\n",
    "\n",
    "#ax.set_xticks([-3, -2, -1, 0, 1, 2, 3])\n",
    "#ax.set_yticks([-3, -2, -1, 0, 1, 2, 3])\n",
    "cax = fig.add_axes([0.92, 0.10, .02, 0.80])\n",
    "cbar = fig.colorbar(sc, cax=cax)\n",
    "cbar.ax.tick_params(labelsize=20)\n",
    "\n",
    "plt.show()"
   ]
  },
  {
   "cell_type": "markdown",
   "id": "e9a831f3",
   "metadata": {},
   "source": [
    "### Job 3: RMSD plot"
   ]
  },
  {
   "cell_type": "code",
   "execution_count": null,
   "id": "9be78df7",
   "metadata": {
    "scrolled": false
   },
   "outputs": [],
   "source": [
    "# select atoms for RMSD computation below \n",
    "selector = 'name N or name CA or name C'\n",
    "# compute RMSD of the trajectory wrt the reference configuration\n",
    "R = rms.RMSD(u, ref, select=selector)          \n",
    "R.run()\n",
    "# get the RMSD result\n",
    "rmsd = R.results.rmsd.T   # transpose makes it easier for plotting\n",
    "\n",
    "fig, ax = plt.subplots(figsize=(12,6))\n",
    "\n",
    "plt.plot(rmsd[0,:], rmsd[2,:], 'k-')\n",
    "plt.xlabel(\"time (fs)\")\n",
    "plt.ylabel(r\"RMSD ($\\AA$)\")\n",
    "\n",
    "if is_savefigs :\n",
    "    fig_filename_rmsd = './%s/%s_rmsd.eps' % (output_path, sysname) \n",
    "    plt.savefig(fig_filename_rmsd)    \n",
    "    print ('RMSD plot saved to file: %s' % fig_filename_rmsd)"
   ]
  },
  {
   "cell_type": "markdown",
   "id": "056206a7",
   "metadata": {},
   "source": [
    "### Job 4: Plot state data from CSV file"
   ]
  },
  {
   "cell_type": "code",
   "execution_count": null,
   "id": "3da54a53",
   "metadata": {
    "scrolled": true
   },
   "outputs": [],
   "source": [
    "csv_filename = \"%s/state_data.csv\" % output_path\n",
    "csv_col_idx = 1\n",
    "\n",
    "df1 = pd.read_csv(csv_filename)\n",
    "print (df1.describe())\n",
    "\n",
    "fig, ax = plt.subplots(figsize=(8,6))\n",
    "df1.plot(kind='line', ax=ax, x='#\"Time (ps)\"', y=df1.columns[csv_col_idx])\n",
    "\n",
    "if is_savefigs :\n",
    "    # to get rid of warning when saving figure to eps format\n",
    "    ax.set_rasterized(True)\n",
    "    fig_filename= './%s/%s_csv%d.eps' % (output_path, sysname, csv_col_idx) \n",
    "    plt.savefig(fig_filename)    \n",
    "    print ('Potential Energy saved to file: %s' % fig_filename)\n",
    "\n",
    "try:\n",
    "    traj_angles \n",
    "except NameError:   \n",
    "    r = dihedrals.Ramachandran(u.select_atoms('resid 2')).run()\n",
    "    traj_angles = r.angles[:,0,:]\n",
    "    \n",
    "fig, ax = plt.subplots(figsize=(8,6))\n",
    "sc = ax.scatter(traj_angles[:,0], traj_angles[:,1], s=3.0, c=df1[df1.columns[csv_col_idx]], cmap='jet')\n",
    "\n",
    "ax.set_title(f'{df1.columns[csv_col_idx]}', fontsize=27)\n",
    "#ax.set_xticks([-3, -2, -1, 0, 1, 2, 3])\n",
    "#ax.set_yticks([-3, -2, -1, 0, 1, 2, 3])\n",
    "\n",
    "cax = fig.add_axes([0.92, 0.10, .02, 0.80])\n",
    "cbar = fig.colorbar(sc, cax=cax)\n",
    "cbar.ax.tick_params(labelsize=20)\n",
    "plt.show()"
   ]
  },
  {
   "cell_type": "markdown",
   "id": "0be6aef3",
   "metadata": {},
   "source": [
    "### Job 5: Check trained model on data"
   ]
  },
  {
   "cell_type": "code",
   "execution_count": null,
   "id": "daf149b7",
   "metadata": {
    "scrolled": true
   },
   "outputs": [],
   "source": [
    "from molann.feature import FeatureFileReader\n",
    "import molann.ann as ann\n",
    "import torch\n",
    "\n",
    "num_scatter_states = 10000\n",
    "feature_file = './feature.txt'\n",
    "# read configuration parameters\n",
    "\n",
    "#model_file = 'checkpoint/AlanineDipeptide-eigenfunction-2022-04-14-11:12:35/trained_cv_scripted.pt'\n",
    "model_file = 'checkpoint/AlanineDipeptide-Eigenfunction-2022-05-18-14:43:37/latest/scripted_cv_cpu.pt'\n",
    "\n",
    "print ('====================Trajectory Info===================')\n",
    "\n",
    "# load the trajectory data from DCD file\n",
    "traj = u.trajectory.timeseries(order='fac')\n",
    "\n",
    "print ('==============Features===================\\n')\n",
    "print ('Features file: {}'.format(feature_file)) \n",
    "\n",
    "print ('\\nFeatures for histogram: \\n')\n",
    "# read features for histogram plot\n",
    "feature_reader = FeatureFileReader(feature_file, 'Histogram', u)\n",
    "feature_list = feature_reader.read()\n",
    "\n",
    "\n",
    "input_selector = 'type C or type O or type N'\n",
    "input_ag = u.select_atoms(input_selector)\n",
    "input_atom_indices = input_ag.ids - 1\n",
    "traj = traj[:, input_atom_indices, :]\n",
    "\n",
    "if len(feature_list) > 0 : \n",
    "    histogram_feature_mapper = ann.FeatureLayer(feature_list, input_ag, use_angle_value=True)\n",
    "    print (histogram_feature_mapper.get_feature_info())\n",
    "    # make sure each feature is one-dimensional\n",
    "    assert histogram_feature_mapper.output_dimension() == len(feature_list), \"Features for histogram are incorrect, output of each feature must be one-dimensional!\" \n",
    "\n",
    "    histogram_feature = histogram_feature_mapper(torch.tensor(traj)).detach().numpy()\n",
    "    feature_names = histogram_feature_mapper.get_feature_info()['name']\n",
    "    df = pd.DataFrame(data=histogram_feature, columns=feature_names) \n",
    "\n",
    "    df.hist(figsize=(7,7))\n",
    "    \n",
    "    df.plot(figsize=(9,6), subplots=True)\n",
    "    plt.legend(loc='best')\n",
    "\n",
    "print ('\\nFeatures for ouptut: \\n')\n",
    "# features to define a 2d space for output\n",
    "feature_reader = FeatureFileReader(feature_file, 'Output', u) \n",
    "feature_list= feature_reader.read()\n",
    "if len(feature_list) == 2 :\n",
    "    output_feature_mapper = ann.FeatureLayer(feature_list, input_ag, use_angle_value=True)\n",
    "    if output_feature_mapper.output_dimension() == 2 : # use it only if it is 2D\n",
    "        print (output_feature_mapper.get_feature_info())\n",
    "    else :\n",
    "        print (f'\\nOutput feature mapper set to None, since 2d feature required for output.')\n",
    "        output_feature_mapper = None\n",
    "else :\n",
    "    output_feature_mapper = None\n",
    "\n",
    "if output_feature_mapper :\n",
    "    model = torch.jit.load(model_file)\n",
    "    \n",
    "    output_features = output_feature_mapper(torch.tensor(traj)).detach().numpy()\n",
    "\n",
    "    index = np.random.choice(np.arange(traj.shape[0], dtype=int), num_scatter_states, replace=False)\n",
    "\n",
    "    X = torch.tensor(traj)[index,:]\n",
    "    feature_data = output_features[index,:]\n",
    "    cv_vals = model(X) \n",
    "\n",
    "    k = cv_vals.size(1)\n",
    "\n",
    "    for idx in range(k) :\n",
    "        fig, ax = plt.subplots(figsize=(6,5))\n",
    "        sc = ax.scatter(feature_data[:,0], feature_data[:,1], s=2.0, c=cv_vals[:,idx].detach().numpy(), cmap='jet')\n",
    "\n",
    "        ax.set_title(f'{idx+1}th CV', fontsize=27)\n",
    "        ax.set_xlabel(r'{}'.format(output_feature_mapper.get_feature(0).get_name()), fontsize=25, labelpad=3, rotation=0)\n",
    "        ax.set_xticks([-3, -2, -1, 0, 1, 2, 3])\n",
    "        ax.set_yticks([-3, -2, -1, 0, 1, 2, 3])\n",
    "        ax.set_ylabel(r'{}'.format(output_feature_mapper.get_feature(1).get_name()), fontsize=25, labelpad=-10, rotation=0)\n",
    "\n",
    "        cax = fig.add_axes([0.92, 0.10, .02, 0.80])\n",
    "        cbar = fig.colorbar(sc, cax=cax)\n",
    "        cbar.ax.tick_params(labelsize=20)\n"
   ]
  },
  {
   "cell_type": "code",
   "execution_count": null,
   "id": "41d4a858",
   "metadata": {},
   "outputs": [],
   "source": []
  }
 ],
 "metadata": {
  "kernelspec": {
   "display_name": "Python 3 (ipykernel)",
   "language": "python",
   "name": "python3"
  },
  "language_info": {
   "codemirror_mode": {
    "name": "ipython",
    "version": 3
   },
   "file_extension": ".py",
   "mimetype": "text/x-python",
   "name": "python",
   "nbconvert_exporter": "python",
   "pygments_lexer": "ipython3",
   "version": "3.9.10"
  }
 },
 "nbformat": 4,
 "nbformat_minor": 5
}
